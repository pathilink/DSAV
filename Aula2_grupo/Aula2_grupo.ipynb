{
 "cells": [
  {
   "cell_type": "code",
   "execution_count": 1,
   "metadata": {},
   "outputs": [],
   "source": [
    "import pandas as pd\n",
    "import random\n",
    "#import collections\n",
    "#import numpy as np\n",
    "import matplotlib.pyplot as plt\n",
    "import seaborn as sns"
   ]
  },
  {
   "cell_type": "code",
   "execution_count": 2,
   "metadata": {},
   "outputs": [],
   "source": [
    "# create dataframe\n",
    "data = pd.DataFrame()"
   ]
  },
  {
   "cell_type": "code",
   "execution_count": 3,
   "metadata": {},
   "outputs": [],
   "source": [
    "vendas = [1000,1100,1200,4000,5200,5600,2300,3600,7800,8900,10000,10400,5700,13500,15000,14800,14200,15100,16000,\n",
    "17000,18000,19000,20500,22000,21300,20500,25700,28300,29300,26100,26900,30020,30000,27800,28300,\n",
    "30900,31000,31600,33400,39500,44400,45700,47900,52100,53900,65800,75000,75600,79800,85900,115000,\n",
    "180000,183000,184900,190300,192000,210000,216300,256400,342000,301900,299900,350600,385400,367600,438000,440000,\n",
    "675000,789500,1521300,1958000,1876500,3015200,4047300]"
   ]
  },
  {
   "cell_type": "code",
   "execution_count": 4,
   "metadata": {},
   "outputs": [],
   "source": [
    "# add column\n",
    "data['vendas'] = vendas"
   ]
  },
  {
   "cell_type": "code",
   "execution_count": 5,
   "metadata": {},
   "outputs": [
    {
     "data": {
      "text/plain": [
       "\"\\n# creat random list from 1 to 10\\nv = random.sample(range(1, 11), 10) \\n\\n# creat random list repeating values\\nv2 = random.choices(v, k=74) \\n\\n# turn to string\\nvend = []\\nfor i in range(len(v2)):\\n    vend.append(str(v2[i]))\\n    \\n# concatenate strings\\nvendedores = []\\nfor i in range(len(vend)):\\n    vendedores.append('vend' + vend[i])\\n    \\nprint(vendedores)\\n\\n\""
      ]
     },
     "execution_count": 5,
     "metadata": {},
     "output_type": "execute_result"
    }
   ],
   "source": [
    "'''\n",
    "# creat random list from 1 to 10\n",
    "v = random.sample(range(1, 11), 10) \n",
    "\n",
    "# creat random list repeating values\n",
    "v2 = random.choices(v, k=74) \n",
    "\n",
    "# turn to string\n",
    "vend = []\n",
    "for i in range(len(v2)):\n",
    "    vend.append(str(v2[i]))\n",
    "    \n",
    "# concatenate strings\n",
    "vendedores = []\n",
    "for i in range(len(vend)):\n",
    "    vendedores.append('vend' + vend[i])\n",
    "    \n",
    "print(vendedores)\n",
    "\n",
    "'''"
   ]
  },
  {
   "cell_type": "code",
   "execution_count": 6,
   "metadata": {},
   "outputs": [],
   "source": [
    "vendedores = ['vend1', 'vend2', 'vend6', 'vend8', 'vend8', 'vend8', 'vend1', 'vend3', 'vend9', 'vend8', 'vend5', 'vend5', 'vend8', 'vend5', 'vend6', 'vend8', 'vend9', 'vend2', 'vend2', 'vend1', 'vend8', 'vend9', 'vend8', 'vend1', 'vend10', 'vend10', 'vend1', 'vend8', 'vend2', 'vend5', 'vend2', 'vend7', 'vend1', 'vend3', 'vend5', 'vend3', 'vend9', 'vend5', 'vend4', 'vend5', 'vend7', 'vend3', 'vend8', 'vend2', 'vend3', 'vend2', 'vend6', 'vend2', 'vend3', 'vend7', 'vend10', 'vend2', 'vend7', 'vend8', 'vend7', 'vend2', 'vend2', 'vend5', 'vend3', 'vend3', 'vend9', 'vend2', 'vend4', 'vend10', 'vend8', 'vend3', 'vend8', 'vend8', 'vend1', 'vend9', 'vend6', 'vend1', 'vend9', 'vend3']"
   ]
  },
  {
   "cell_type": "code",
   "execution_count": 7,
   "metadata": {},
   "outputs": [],
   "source": [
    "# add column\n",
    "data['vendedores'] = vendedores"
   ]
  },
  {
   "cell_type": "code",
   "execution_count": 35,
   "metadata": {},
   "outputs": [],
   "source": [
    "'''\n",
    "# create company size\n",
    "porte = []\n",
    "for i in range(len(data)):\n",
    "    if data['vendas'][i] <= 16250:\n",
    "        porte.append('bronze')\n",
    "    elif data['vendas'][i] > 16250 and data['vendas'][i] <= 31300:\n",
    "        porte.append('prata')\n",
    "    elif data['vendas'][i] > 31300 and data['vendas'][i] <= 191575:\n",
    "        porte.append('ouro')\n",
    "    elif data['vendas'][i] > 191575:\n",
    "        porte.append('diamante')\n",
    "'''"
   ]
  },
  {
   "cell_type": "code",
   "execution_count": 37,
   "metadata": {},
   "outputs": [],
   "source": [
    "#porte"
   ]
  },
  {
   "cell_type": "code",
   "execution_count": 38,
   "metadata": {},
   "outputs": [],
   "source": [
    "porte = ['bronze','bronze','bronze','bronze','bronze','bronze','bronze','bronze','bronze','bronze','bronze',\n",
    " 'bronze','bronze','bronze','bronze','bronze','bronze','bronze','bronze','prata','prata','prata','prata',\n",
    " 'prata','prata','prata','prata','prata','prata','prata','prata','prata','prata','prata','prata','prata',\n",
    " 'prata','ouro','ouro','ouro','ouro','ouro','ouro','ouro','ouro','ouro','ouro','ouro','ouro','ouro','ouro',\n",
    " 'ouro','ouro','ouro','ouro','diamante','diamante','diamante','diamante','diamante','diamante','diamante',\n",
    " 'diamante','diamante','diamante','diamante','diamante','diamante','diamante','diamante','diamante','diamante',\n",
    " 'diamante','diamante']"
   ]
  },
  {
   "cell_type": "code",
   "execution_count": 39,
   "metadata": {},
   "outputs": [],
   "source": [
    "data['porte'] = porte"
   ]
  },
  {
   "cell_type": "markdown",
   "metadata": {},
   "source": [
    "Porte das empresas por valor da venda (R$):\n",
    "* **bronze**: até 16250\n",
    "* **prata**: de 16251 a 31300\n",
    "* **ouro**: de 31301 a 191575\n",
    "* **diamante**: a partir de 191576"
   ]
  },
  {
   "cell_type": "code",
   "execution_count": 40,
   "metadata": {},
   "outputs": [
    {
     "data": {
      "text/html": [
       "<div>\n",
       "<style scoped>\n",
       "    .dataframe tbody tr th:only-of-type {\n",
       "        vertical-align: middle;\n",
       "    }\n",
       "\n",
       "    .dataframe tbody tr th {\n",
       "        vertical-align: top;\n",
       "    }\n",
       "\n",
       "    .dataframe thead th {\n",
       "        text-align: right;\n",
       "    }\n",
       "</style>\n",
       "<table border=\"1\" class=\"dataframe\">\n",
       "  <thead>\n",
       "    <tr style=\"text-align: right;\">\n",
       "      <th></th>\n",
       "      <th>vendas</th>\n",
       "      <th>vendedores</th>\n",
       "      <th>porte</th>\n",
       "    </tr>\n",
       "  </thead>\n",
       "  <tbody>\n",
       "    <tr>\n",
       "      <th>55</th>\n",
       "      <td>192000</td>\n",
       "      <td>vend2</td>\n",
       "      <td>diamante</td>\n",
       "    </tr>\n",
       "    <tr>\n",
       "      <th>70</th>\n",
       "      <td>1958000</td>\n",
       "      <td>vend6</td>\n",
       "      <td>diamante</td>\n",
       "    </tr>\n",
       "    <tr>\n",
       "      <th>47</th>\n",
       "      <td>75600</td>\n",
       "      <td>vend2</td>\n",
       "      <td>ouro</td>\n",
       "    </tr>\n",
       "    <tr>\n",
       "      <th>28</th>\n",
       "      <td>29300</td>\n",
       "      <td>vend2</td>\n",
       "      <td>prata</td>\n",
       "    </tr>\n",
       "    <tr>\n",
       "      <th>42</th>\n",
       "      <td>47900</td>\n",
       "      <td>vend8</td>\n",
       "      <td>ouro</td>\n",
       "    </tr>\n",
       "  </tbody>\n",
       "</table>\n",
       "</div>"
      ],
      "text/plain": [
       "     vendas vendedores     porte\n",
       "55   192000      vend2  diamante\n",
       "70  1958000      vend6  diamante\n",
       "47    75600      vend2      ouro\n",
       "28    29300      vend2     prata\n",
       "42    47900      vend8      ouro"
      ]
     },
     "execution_count": 40,
     "metadata": {},
     "output_type": "execute_result"
    }
   ],
   "source": [
    "data.sample(5)"
   ]
  },
  {
   "cell_type": "code",
   "execution_count": 41,
   "metadata": {},
   "outputs": [],
   "source": [
    "# print entire number in describe function\n",
    "pd.set_option('float_format', '{:f}'.format)"
   ]
  },
  {
   "cell_type": "code",
   "execution_count": 42,
   "metadata": {},
   "outputs": [
    {
     "data": {
      "text/html": [
       "<div>\n",
       "<style scoped>\n",
       "    .dataframe tbody tr th:only-of-type {\n",
       "        vertical-align: middle;\n",
       "    }\n",
       "\n",
       "    .dataframe tbody tr th {\n",
       "        vertical-align: top;\n",
       "    }\n",
       "\n",
       "    .dataframe thead th {\n",
       "        text-align: right;\n",
       "    }\n",
       "</style>\n",
       "<table border=\"1\" class=\"dataframe\">\n",
       "  <thead>\n",
       "    <tr style=\"text-align: right;\">\n",
       "      <th></th>\n",
       "      <th>vendas</th>\n",
       "    </tr>\n",
       "  </thead>\n",
       "  <tbody>\n",
       "    <tr>\n",
       "      <th>count</th>\n",
       "      <td>74.000000</td>\n",
       "    </tr>\n",
       "    <tr>\n",
       "      <th>mean</th>\n",
       "      <td>268577.297297</td>\n",
       "    </tr>\n",
       "    <tr>\n",
       "      <th>std</th>\n",
       "      <td>665944.362400</td>\n",
       "    </tr>\n",
       "    <tr>\n",
       "      <th>min</th>\n",
       "      <td>1000.000000</td>\n",
       "    </tr>\n",
       "    <tr>\n",
       "      <th>25%</th>\n",
       "      <td>16250.000000</td>\n",
       "    </tr>\n",
       "    <tr>\n",
       "      <th>50%</th>\n",
       "      <td>31300.000000</td>\n",
       "    </tr>\n",
       "    <tr>\n",
       "      <th>75%</th>\n",
       "      <td>191575.000000</td>\n",
       "    </tr>\n",
       "    <tr>\n",
       "      <th>max</th>\n",
       "      <td>4047300.000000</td>\n",
       "    </tr>\n",
       "  </tbody>\n",
       "</table>\n",
       "</div>"
      ],
      "text/plain": [
       "              vendas\n",
       "count      74.000000\n",
       "mean   268577.297297\n",
       "std    665944.362400\n",
       "min      1000.000000\n",
       "25%     16250.000000\n",
       "50%     31300.000000\n",
       "75%    191575.000000\n",
       "max   4047300.000000"
      ]
     },
     "execution_count": 42,
     "metadata": {},
     "output_type": "execute_result"
    }
   ],
   "source": [
    "# describe numerical value\n",
    "data.describe()"
   ]
  },
  {
   "cell_type": "markdown",
   "metadata": {},
   "source": [
    "* Média R$ 268.577,29\n",
    "\n",
    "* Desvio padrão R$ 665.944,36\n",
    "\n",
    "* Menor valor R$ 1.000,00\n",
    "\n",
    "* Mediana R$ 31.300,00\n",
    "\n",
    "* Maior valor R$ 4.047.300,00"
   ]
  },
  {
   "cell_type": "code",
   "execution_count": 43,
   "metadata": {},
   "outputs": [
    {
     "data": {
      "text/html": [
       "<div>\n",
       "<style scoped>\n",
       "    .dataframe tbody tr th:only-of-type {\n",
       "        vertical-align: middle;\n",
       "    }\n",
       "\n",
       "    .dataframe tbody tr th {\n",
       "        vertical-align: top;\n",
       "    }\n",
       "\n",
       "    .dataframe thead th {\n",
       "        text-align: right;\n",
       "    }\n",
       "</style>\n",
       "<table border=\"1\" class=\"dataframe\">\n",
       "  <thead>\n",
       "    <tr style=\"text-align: right;\">\n",
       "      <th></th>\n",
       "      <th>vendedores</th>\n",
       "      <th>porte</th>\n",
       "    </tr>\n",
       "  </thead>\n",
       "  <tbody>\n",
       "    <tr>\n",
       "      <th>count</th>\n",
       "      <td>74</td>\n",
       "      <td>74</td>\n",
       "    </tr>\n",
       "    <tr>\n",
       "      <th>unique</th>\n",
       "      <td>10</td>\n",
       "      <td>4</td>\n",
       "    </tr>\n",
       "    <tr>\n",
       "      <th>top</th>\n",
       "      <td>vend8</td>\n",
       "      <td>diamante</td>\n",
       "    </tr>\n",
       "    <tr>\n",
       "      <th>freq</th>\n",
       "      <td>14</td>\n",
       "      <td>19</td>\n",
       "    </tr>\n",
       "  </tbody>\n",
       "</table>\n",
       "</div>"
      ],
      "text/plain": [
       "       vendedores     porte\n",
       "count          74        74\n",
       "unique         10         4\n",
       "top         vend8  diamante\n",
       "freq           14        19"
      ]
     },
     "execution_count": 43,
     "metadata": {},
     "output_type": "execute_result"
    }
   ],
   "source": [
    "# describe categorical value\n",
    "data.describe(include = 'object')"
   ]
  },
  {
   "cell_type": "code",
   "execution_count": 44,
   "metadata": {},
   "outputs": [
    {
     "data": {
      "text/plain": [
       "<matplotlib.axes._subplots.AxesSubplot at 0x7f144b4d56a0>"
      ]
     },
     "execution_count": 44,
     "metadata": {},
     "output_type": "execute_result"
    },
    {
     "data": {
      "image/png": "[encoded data removed]",
      "text/plain": [
       "<Figure size 432x288 with 1 Axes>"
      ]
     },
     "metadata": {
      "needs_background": "light"
     },
     "output_type": "display_data"
    }
   ],
   "source": [
    "sns.distplot(data['vendas'])"
   ]
  },
  {
   "cell_type": "markdown",
   "metadata": {},
   "source": [
    "* Total de 74 vendas\n",
    "* Variável 'vendedores'\n",
    "    * 10 vendedores\n",
    "    * Vendedor com maior frequência: vend8 (14 vezes)\n",
    "* Variável 'porte'\n",
    "    * 4 tipos: bronze, prata, ouro, diamante\n",
    "    * Maior frequência: bronze (19 vezes)"
   ]
  },
  {
   "cell_type": "code",
   "execution_count": 45,
   "metadata": {},
   "outputs": [],
   "source": [
    "#print('O vendedor com mais vendas é', data.describe(include = 'object').iloc[2][0])"
   ]
  },
  {
   "cell_type": "code",
   "execution_count": 46,
   "metadata": {},
   "outputs": [
    {
     "data": {
      "text/html": [
       "<div>\n",
       "<style scoped>\n",
       "    .dataframe tbody tr th:only-of-type {\n",
       "        vertical-align: middle;\n",
       "    }\n",
       "\n",
       "    .dataframe tbody tr th {\n",
       "        vertical-align: top;\n",
       "    }\n",
       "\n",
       "    .dataframe thead th {\n",
       "        text-align: right;\n",
       "    }\n",
       "</style>\n",
       "<table border=\"1\" class=\"dataframe\">\n",
       "  <thead>\n",
       "    <tr style=\"text-align: right;\">\n",
       "      <th></th>\n",
       "      <th>vendas</th>\n",
       "    </tr>\n",
       "    <tr>\n",
       "      <th>porte</th>\n",
       "      <th></th>\n",
       "    </tr>\n",
       "  </thead>\n",
       "  <tbody>\n",
       "    <tr>\n",
       "      <th>bronze</th>\n",
       "      <td>19</td>\n",
       "    </tr>\n",
       "    <tr>\n",
       "      <th>diamante</th>\n",
       "      <td>19</td>\n",
       "    </tr>\n",
       "    <tr>\n",
       "      <th>ouro</th>\n",
       "      <td>18</td>\n",
       "    </tr>\n",
       "    <tr>\n",
       "      <th>prata</th>\n",
       "      <td>18</td>\n",
       "    </tr>\n",
       "  </tbody>\n",
       "</table>\n",
       "</div>"
      ],
      "text/plain": [
       "          vendas\n",
       "porte           \n",
       "bronze        19\n",
       "diamante      19\n",
       "ouro          18\n",
       "prata         18"
      ]
     },
     "execution_count": 46,
     "metadata": {},
     "output_type": "execute_result"
    }
   ],
   "source": [
    "# sales by size\n",
    "df_grouped_porte = data.groupby('porte').count()\n",
    "df_grouped_porte = df_grouped_porte.drop('vendedores', axis=1)\n",
    "df_grouped_porte"
   ]
  },
  {
   "cell_type": "markdown",
   "metadata": {},
   "source": [
    "Total de vendas por porte é bem equilibrada."
   ]
  },
  {
   "cell_type": "code",
   "execution_count": 47,
   "metadata": {},
   "outputs": [
    {
     "data": {
      "text/html": [
       "<div>\n",
       "<style scoped>\n",
       "    .dataframe tbody tr th:only-of-type {\n",
       "        vertical-align: middle;\n",
       "    }\n",
       "\n",
       "    .dataframe tbody tr th {\n",
       "        vertical-align: top;\n",
       "    }\n",
       "\n",
       "    .dataframe thead tr th {\n",
       "        text-align: left;\n",
       "    }\n",
       "\n",
       "    .dataframe thead tr:last-of-type th {\n",
       "        text-align: right;\n",
       "    }\n",
       "</style>\n",
       "<table border=\"1\" class=\"dataframe\">\n",
       "  <thead>\n",
       "    <tr>\n",
       "      <th></th>\n",
       "      <th colspan=\"4\" halign=\"left\">vendas</th>\n",
       "    </tr>\n",
       "    <tr>\n",
       "      <th></th>\n",
       "      <th>count</th>\n",
       "      <th>mean</th>\n",
       "      <th>median</th>\n",
       "      <th>std</th>\n",
       "    </tr>\n",
       "    <tr>\n",
       "      <th>porte</th>\n",
       "      <th></th>\n",
       "      <th></th>\n",
       "      <th></th>\n",
       "      <th></th>\n",
       "    </tr>\n",
       "  </thead>\n",
       "  <tbody>\n",
       "    <tr>\n",
       "      <th>bronze</th>\n",
       "      <td>19</td>\n",
       "      <td>8178.947368</td>\n",
       "      <td>7800</td>\n",
       "      <td>5364.138012</td>\n",
       "    </tr>\n",
       "    <tr>\n",
       "      <th>diamante</th>\n",
       "      <td>19</td>\n",
       "      <td>930678.947368</td>\n",
       "      <td>385400</td>\n",
       "      <td>1081327.278846</td>\n",
       "    </tr>\n",
       "    <tr>\n",
       "      <th>ouro</th>\n",
       "      <td>18</td>\n",
       "      <td>87988.888889</td>\n",
       "      <td>70400</td>\n",
       "      <td>56995.561116</td>\n",
       "    </tr>\n",
       "    <tr>\n",
       "      <th>prata</th>\n",
       "      <td>18</td>\n",
       "      <td>25145.555556</td>\n",
       "      <td>26500</td>\n",
       "      <td>4766.544219</td>\n",
       "    </tr>\n",
       "  </tbody>\n",
       "</table>\n",
       "</div>"
      ],
      "text/plain": [
       "         vendas                                     \n",
       "          count          mean  median            std\n",
       "porte                                               \n",
       "bronze       19   8178.947368    7800    5364.138012\n",
       "diamante     19 930678.947368  385400 1081327.278846\n",
       "ouro         18  87988.888889   70400   56995.561116\n",
       "prata        18  25145.555556   26500    4766.544219"
      ]
     },
     "execution_count": 47,
     "metadata": {},
     "output_type": "execute_result"
    }
   ],
   "source": [
    "data.groupby('porte').agg({'vendas': ['count', 'mean', 'median', 'std']})"
   ]
  },
  {
   "cell_type": "code",
   "execution_count": 68,
   "metadata": {},
   "outputs": [
    {
     "name": "stdout",
     "output_type": "stream",
     "text": [
      "vendedores  porte   \n",
      "vend1       bronze      2\n",
      "            diamante    2\n",
      "            prata       4\n",
      "vend10      diamante    1\n",
      "            ouro        1\n",
      "            prata       2\n",
      "vend2       bronze      3\n",
      "            diamante    3\n",
      "            ouro        4\n",
      "            prata       2\n",
      "vend3       bronze      1\n",
      "            diamante    4\n",
      "            ouro        3\n",
      "            prata       2\n",
      "vend4       diamante    1\n",
      "            ouro        1\n",
      "vend5       bronze      3\n",
      "            diamante    1\n",
      "            ouro        2\n",
      "            prata       2\n",
      "vend6       bronze      2\n",
      "            diamante    1\n",
      "            ouro        1\n",
      "vend7       ouro        4\n",
      "            prata       1\n",
      "vend8       bronze      6\n",
      "            diamante    3\n",
      "            ouro        2\n",
      "            prata       3\n",
      "vend9       bronze      2\n",
      "            diamante    3\n",
      "            prata       2\n",
      "Name: vendas, dtype: int64\n"
     ]
    }
   ],
   "source": [
    "# sales by size by vendor\n",
    "df_vendor_porte_venda = data.groupby(['vendedores','porte'])['vendas'].apply(lambda x : x.astype(str).count())\n",
    "print(df_vendor_porte_venda)"
   ]
  },
  {
   "cell_type": "code",
   "execution_count": 69,
   "metadata": {},
   "outputs": [
    {
     "name": "stdout",
     "output_type": "stream",
     "text": [
      "porte     vendedores\n",
      "bronze    vend1         2\n",
      "          vend2         3\n",
      "          vend3         1\n",
      "          vend5         3\n",
      "          vend6         2\n",
      "          vend8         6\n",
      "          vend9         2\n",
      "diamante  vend1         2\n",
      "          vend10        1\n",
      "          vend2         3\n",
      "          vend3         4\n",
      "          vend4         1\n",
      "          vend5         1\n",
      "          vend6         1\n",
      "          vend8         3\n",
      "          vend9         3\n",
      "ouro      vend10        1\n",
      "          vend2         4\n",
      "          vend3         3\n",
      "          vend4         1\n",
      "          vend5         2\n",
      "          vend6         1\n",
      "          vend7         4\n",
      "          vend8         2\n",
      "prata     vend1         4\n",
      "          vend10        2\n",
      "          vend2         2\n",
      "          vend3         2\n",
      "          vend5         2\n",
      "          vend7         1\n",
      "          vend8         3\n",
      "          vend9         2\n",
      "Name: vendas, dtype: int64\n"
     ]
    }
   ],
   "source": [
    "# sales by size by vendor\n",
    "df_porte_vendor_venda = data.groupby(['porte','vendedores'])['vendas'].apply(lambda x : x.astype(str).count())\n",
    "print(df_porte_vendor_venda)"
   ]
  },
  {
   "cell_type": "code",
   "execution_count": null,
   "metadata": {},
   "outputs": [],
   "source": [
    "# t = df_vendor_porte_venda.index\n",
    "# t"
   ]
  },
  {
   "cell_type": "code",
   "execution_count": 50,
   "metadata": {},
   "outputs": [],
   "source": [
    "# df_vendor_porte_venda.values"
   ]
  },
  {
   "cell_type": "code",
   "execution_count": 52,
   "metadata": {},
   "outputs": [],
   "source": [
    "# data.groupby('vendedores').count().sort_values(['porte'],ascending=True)\n"
   ]
  },
  {
   "cell_type": "code",
   "execution_count": 53,
   "metadata": {},
   "outputs": [
    {
     "data": {
      "text/html": [
       "<div>\n",
       "<style scoped>\n",
       "    .dataframe tbody tr th:only-of-type {\n",
       "        vertical-align: middle;\n",
       "    }\n",
       "\n",
       "    .dataframe tbody tr th {\n",
       "        vertical-align: top;\n",
       "    }\n",
       "\n",
       "    .dataframe thead th {\n",
       "        text-align: right;\n",
       "    }\n",
       "</style>\n",
       "<table border=\"1\" class=\"dataframe\">\n",
       "  <thead>\n",
       "    <tr style=\"text-align: right;\">\n",
       "      <th></th>\n",
       "      <th>vendas</th>\n",
       "    </tr>\n",
       "    <tr>\n",
       "      <th>vendedores</th>\n",
       "      <th></th>\n",
       "    </tr>\n",
       "  </thead>\n",
       "  <tbody>\n",
       "    <tr>\n",
       "      <th>vend5</th>\n",
       "      <td>375700</td>\n",
       "    </tr>\n",
       "    <tr>\n",
       "      <th>vend4</th>\n",
       "      <td>384000</td>\n",
       "    </tr>\n",
       "    <tr>\n",
       "      <th>vend7</th>\n",
       "      <td>533620</td>\n",
       "    </tr>\n",
       "    <tr>\n",
       "      <th>vend10</th>\n",
       "      <td>542200</td>\n",
       "    </tr>\n",
       "    <tr>\n",
       "      <th>vend2</th>\n",
       "      <td>1163800</td>\n",
       "    </tr>\n",
       "    <tr>\n",
       "      <th>vend8</th>\n",
       "      <td>1826400</td>\n",
       "    </tr>\n",
       "    <tr>\n",
       "      <th>vend6</th>\n",
       "      <td>2049200</td>\n",
       "    </tr>\n",
       "    <tr>\n",
       "      <th>vend1</th>\n",
       "      <td>2764000</td>\n",
       "    </tr>\n",
       "    <tr>\n",
       "      <th>vend9</th>\n",
       "      <td>4910400</td>\n",
       "    </tr>\n",
       "    <tr>\n",
       "      <th>vend3</th>\n",
       "      <td>5325400</td>\n",
       "    </tr>\n",
       "  </tbody>\n",
       "</table>\n",
       "</div>"
      ],
      "text/plain": [
       "             vendas\n",
       "vendedores         \n",
       "vend5        375700\n",
       "vend4        384000\n",
       "vend7        533620\n",
       "vend10       542200\n",
       "vend2       1163800\n",
       "vend8       1826400\n",
       "vend6       2049200\n",
       "vend1       2764000\n",
       "vend9       4910400\n",
       "vend3       5325400"
      ]
     },
     "execution_count": 53,
     "metadata": {},
     "output_type": "execute_result"
    }
   ],
   "source": [
    "# group sales value by vendors\n",
    "df_grouped_sum = data.groupby('vendedores').sum().sort_values(['vendas'],ascending=True)\n",
    "df_grouped_sum"
   ]
  },
  {
   "cell_type": "markdown",
   "metadata": {},
   "source": [
    "* Vendedor com _menor_ valor total de vendas: vend5\n",
    "* Vendedor com _maior_ valor total de vendas: vend3"
   ]
  },
  {
   "cell_type": "code",
   "execution_count": 54,
   "metadata": {},
   "outputs": [
    {
     "data": {
      "text/html": [
       "<div>\n",
       "<style scoped>\n",
       "    .dataframe tbody tr th:only-of-type {\n",
       "        vertical-align: middle;\n",
       "    }\n",
       "\n",
       "    .dataframe tbody tr th {\n",
       "        vertical-align: top;\n",
       "    }\n",
       "\n",
       "    .dataframe thead th {\n",
       "        text-align: right;\n",
       "    }\n",
       "</style>\n",
       "<table border=\"1\" class=\"dataframe\">\n",
       "  <thead>\n",
       "    <tr style=\"text-align: right;\">\n",
       "      <th></th>\n",
       "      <th>vendas</th>\n",
       "    </tr>\n",
       "    <tr>\n",
       "      <th>vendedores</th>\n",
       "      <th></th>\n",
       "    </tr>\n",
       "  </thead>\n",
       "  <tbody>\n",
       "    <tr>\n",
       "      <th>vend4</th>\n",
       "      <td>2</td>\n",
       "    </tr>\n",
       "    <tr>\n",
       "      <th>vend10</th>\n",
       "      <td>4</td>\n",
       "    </tr>\n",
       "    <tr>\n",
       "      <th>vend6</th>\n",
       "      <td>4</td>\n",
       "    </tr>\n",
       "    <tr>\n",
       "      <th>vend7</th>\n",
       "      <td>5</td>\n",
       "    </tr>\n",
       "    <tr>\n",
       "      <th>vend9</th>\n",
       "      <td>7</td>\n",
       "    </tr>\n",
       "    <tr>\n",
       "      <th>vend1</th>\n",
       "      <td>8</td>\n",
       "    </tr>\n",
       "    <tr>\n",
       "      <th>vend5</th>\n",
       "      <td>8</td>\n",
       "    </tr>\n",
       "    <tr>\n",
       "      <th>vend3</th>\n",
       "      <td>10</td>\n",
       "    </tr>\n",
       "    <tr>\n",
       "      <th>vend2</th>\n",
       "      <td>12</td>\n",
       "    </tr>\n",
       "    <tr>\n",
       "      <th>vend8</th>\n",
       "      <td>14</td>\n",
       "    </tr>\n",
       "  </tbody>\n",
       "</table>\n",
       "</div>"
      ],
      "text/plain": [
       "            vendas\n",
       "vendedores        \n",
       "vend4            2\n",
       "vend10           4\n",
       "vend6            4\n",
       "vend7            5\n",
       "vend9            7\n",
       "vend1            8\n",
       "vend5            8\n",
       "vend3           10\n",
       "vend2           12\n",
       "vend8           14"
      ]
     },
     "execution_count": 54,
     "metadata": {},
     "output_type": "execute_result"
    }
   ],
   "source": [
    "# sales by vendor\n",
    "df_grouped_count = data.groupby('vendedores').count().sort_values(['vendas'],ascending=True)\n",
    "df_grouped_count = df_grouped_count.drop('porte', axis=1)\n",
    "df_grouped_count"
   ]
  },
  {
   "cell_type": "markdown",
   "metadata": {},
   "source": [
    "* Vendedor com menor quantidade de vendas: vend4\n",
    "* Vendedor com a maior quantidade de vendas: vend8"
   ]
  },
  {
   "cell_type": "code",
   "execution_count": null,
   "metadata": {},
   "outputs": [],
   "source": [
    "# another way to count\n",
    "#counter=collections.Counter(data['vendedores'])\n",
    "#print(counter)"
   ]
  },
  {
   "cell_type": "code",
   "execution_count": 56,
   "metadata": {},
   "outputs": [],
   "source": [
    "# creta dataframe on vendors\n",
    "data_vendors = pd.DataFrame.merge(df_grouped_count,df_grouped_sum,on='vendedores')"
   ]
  },
  {
   "cell_type": "code",
   "execution_count": 57,
   "metadata": {},
   "outputs": [],
   "source": [
    "# vendas_x: qtde de vendas\n",
    "# vendas_y: valor total de vendas em R$\n",
    "data_vendors.columns = ['qtde de vendas','total de vendas em R$']"
   ]
  },
  {
   "cell_type": "code",
   "execution_count": 58,
   "metadata": {},
   "outputs": [
    {
     "data": {
      "text/html": [
       "<div>\n",
       "<style scoped>\n",
       "    .dataframe tbody tr th:only-of-type {\n",
       "        vertical-align: middle;\n",
       "    }\n",
       "\n",
       "    .dataframe tbody tr th {\n",
       "        vertical-align: top;\n",
       "    }\n",
       "\n",
       "    .dataframe thead th {\n",
       "        text-align: right;\n",
       "    }\n",
       "</style>\n",
       "<table border=\"1\" class=\"dataframe\">\n",
       "  <thead>\n",
       "    <tr style=\"text-align: right;\">\n",
       "      <th></th>\n",
       "      <th>qtde de vendas</th>\n",
       "      <th>total de vendas em R$</th>\n",
       "    </tr>\n",
       "    <tr>\n",
       "      <th>vendedores</th>\n",
       "      <th></th>\n",
       "      <th></th>\n",
       "    </tr>\n",
       "  </thead>\n",
       "  <tbody>\n",
       "    <tr>\n",
       "      <th>vend4</th>\n",
       "      <td>2</td>\n",
       "      <td>384000</td>\n",
       "    </tr>\n",
       "    <tr>\n",
       "      <th>vend10</th>\n",
       "      <td>4</td>\n",
       "      <td>542200</td>\n",
       "    </tr>\n",
       "    <tr>\n",
       "      <th>vend6</th>\n",
       "      <td>4</td>\n",
       "      <td>2049200</td>\n",
       "    </tr>\n",
       "    <tr>\n",
       "      <th>vend7</th>\n",
       "      <td>5</td>\n",
       "      <td>533620</td>\n",
       "    </tr>\n",
       "    <tr>\n",
       "      <th>vend9</th>\n",
       "      <td>7</td>\n",
       "      <td>4910400</td>\n",
       "    </tr>\n",
       "    <tr>\n",
       "      <th>vend1</th>\n",
       "      <td>8</td>\n",
       "      <td>2764000</td>\n",
       "    </tr>\n",
       "    <tr>\n",
       "      <th>vend5</th>\n",
       "      <td>8</td>\n",
       "      <td>375700</td>\n",
       "    </tr>\n",
       "    <tr>\n",
       "      <th>vend3</th>\n",
       "      <td>10</td>\n",
       "      <td>5325400</td>\n",
       "    </tr>\n",
       "    <tr>\n",
       "      <th>vend2</th>\n",
       "      <td>12</td>\n",
       "      <td>1163800</td>\n",
       "    </tr>\n",
       "    <tr>\n",
       "      <th>vend8</th>\n",
       "      <td>14</td>\n",
       "      <td>1826400</td>\n",
       "    </tr>\n",
       "  </tbody>\n",
       "</table>\n",
       "</div>"
      ],
      "text/plain": [
       "            qtde de vendas  total de vendas em R$\n",
       "vendedores                                       \n",
       "vend4                    2                 384000\n",
       "vend10                   4                 542200\n",
       "vend6                    4                2049200\n",
       "vend7                    5                 533620\n",
       "vend9                    7                4910400\n",
       "vend1                    8                2764000\n",
       "vend5                    8                 375700\n",
       "vend3                   10                5325400\n",
       "vend2                   12                1163800\n",
       "vend8                   14                1826400"
      ]
     },
     "execution_count": 58,
     "metadata": {},
     "output_type": "execute_result"
    }
   ],
   "source": [
    "data_vendors"
   ]
  },
  {
   "cell_type": "code",
   "execution_count": 59,
   "metadata": {},
   "outputs": [
    {
     "data": {
      "text/html": [
       "<div>\n",
       "<style scoped>\n",
       "    .dataframe tbody tr th:only-of-type {\n",
       "        vertical-align: middle;\n",
       "    }\n",
       "\n",
       "    .dataframe tbody tr th {\n",
       "        vertical-align: top;\n",
       "    }\n",
       "\n",
       "    .dataframe thead th {\n",
       "        text-align: right;\n",
       "    }\n",
       "</style>\n",
       "<table border=\"1\" class=\"dataframe\">\n",
       "  <thead>\n",
       "    <tr style=\"text-align: right;\">\n",
       "      <th></th>\n",
       "      <th>qtde de vendas</th>\n",
       "      <th>total de vendas em R$</th>\n",
       "    </tr>\n",
       "  </thead>\n",
       "  <tbody>\n",
       "    <tr>\n",
       "      <th>count</th>\n",
       "      <td>10.000000</td>\n",
       "      <td>10.000000</td>\n",
       "    </tr>\n",
       "    <tr>\n",
       "      <th>mean</th>\n",
       "      <td>7.400000</td>\n",
       "      <td>1987472.000000</td>\n",
       "    </tr>\n",
       "    <tr>\n",
       "      <th>std</th>\n",
       "      <td>3.806427</td>\n",
       "      <td>1836902.147232</td>\n",
       "    </tr>\n",
       "    <tr>\n",
       "      <th>min</th>\n",
       "      <td>2.000000</td>\n",
       "      <td>375700.000000</td>\n",
       "    </tr>\n",
       "    <tr>\n",
       "      <th>25%</th>\n",
       "      <td>4.250000</td>\n",
       "      <td>535765.000000</td>\n",
       "    </tr>\n",
       "    <tr>\n",
       "      <th>50%</th>\n",
       "      <td>7.500000</td>\n",
       "      <td>1495100.000000</td>\n",
       "    </tr>\n",
       "    <tr>\n",
       "      <th>75%</th>\n",
       "      <td>9.500000</td>\n",
       "      <td>2585300.000000</td>\n",
       "    </tr>\n",
       "    <tr>\n",
       "      <th>max</th>\n",
       "      <td>14.000000</td>\n",
       "      <td>5325400.000000</td>\n",
       "    </tr>\n",
       "  </tbody>\n",
       "</table>\n",
       "</div>"
      ],
      "text/plain": [
       "       qtde de vendas  total de vendas em R$\n",
       "count       10.000000              10.000000\n",
       "mean         7.400000         1987472.000000\n",
       "std          3.806427         1836902.147232\n",
       "min          2.000000          375700.000000\n",
       "25%          4.250000          535765.000000\n",
       "50%          7.500000         1495100.000000\n",
       "75%          9.500000         2585300.000000\n",
       "max         14.000000         5325400.000000"
      ]
     },
     "execution_count": 59,
     "metadata": {},
     "output_type": "execute_result"
    }
   ],
   "source": [
    "data_vendors.describe()"
   ]
  },
  {
   "cell_type": "code",
   "execution_count": 60,
   "metadata": {},
   "outputs": [
    {
     "data": {
      "image/png": "[encoded data removed]",
      "text/plain": [
       "<Figure size 432x288 with 1 Axes>"
      ]
     },
     "metadata": {
      "needs_background": "light"
     },
     "output_type": "display_data"
    }
   ],
   "source": [
    "plt.scatter(data_vendors['qtde de vendas'],data_vendors['total de vendas em R$'])\n",
    "plt.title(\"qtde de vendas x total de vendas em R$\")\n",
    "plt.xlabel(\"Vendas\")\n",
    "plt.ylabel(\"Valor\")\n",
    "plt.show()"
   ]
  },
  {
   "cell_type": "code",
   "execution_count": 61,
   "metadata": {},
   "outputs": [
    {
     "data": {
      "image/png": "[encoded data removed]",
      "text/plain": [
       "<Figure size 432x288 with 1 Axes>"
      ]
     },
     "metadata": {
      "needs_background": "light"
     },
     "output_type": "display_data"
    }
   ],
   "source": [
    "x = pd.Series(data_vendors['total de vendas em R$'], name=\"Total de vendas em R$\")\n",
    "ax = sns.distplot(x, bins=10)"
   ]
  },
  {
   "cell_type": "code",
   "execution_count": 62,
   "metadata": {},
   "outputs": [
    {
     "data": {
      "image/png": "[encoded data removed]",
      "text/plain": [
       "<Figure size 432x432 with 3 Axes>"
      ]
     },
     "metadata": {
      "needs_background": "light"
     },
     "output_type": "display_data"
    }
   ],
   "source": [
    "sns.jointplot(x=\"qtde de vendas\", y=\"total de vendas em R$\", data=data_vendors);"
   ]
  },
  {
   "cell_type": "code",
   "execution_count": 63,
   "metadata": {},
   "outputs": [],
   "source": [
    "# calculate sales - meta\n",
    "diff_meta = []\n",
    "meta = 1000000\n",
    "for i in range(len(data_vendors)):\n",
    "    diff_meta.append(data_vendors['total de vendas em R$'][i] - meta)"
   ]
  },
  {
   "cell_type": "code",
   "execution_count": 64,
   "metadata": {},
   "outputs": [],
   "source": [
    "data_vendors['diff_meta'] = diff_meta"
   ]
  },
  {
   "cell_type": "code",
   "execution_count": 65,
   "metadata": {
    "scrolled": true
   },
   "outputs": [
    {
     "data": {
      "text/html": [
       "<div>\n",
       "<style scoped>\n",
       "    .dataframe tbody tr th:only-of-type {\n",
       "        vertical-align: middle;\n",
       "    }\n",
       "\n",
       "    .dataframe tbody tr th {\n",
       "        vertical-align: top;\n",
       "    }\n",
       "\n",
       "    .dataframe thead th {\n",
       "        text-align: right;\n",
       "    }\n",
       "</style>\n",
       "<table border=\"1\" class=\"dataframe\">\n",
       "  <thead>\n",
       "    <tr style=\"text-align: right;\">\n",
       "      <th></th>\n",
       "      <th>qtde de vendas</th>\n",
       "      <th>total de vendas em R$</th>\n",
       "      <th>diff_meta</th>\n",
       "    </tr>\n",
       "    <tr>\n",
       "      <th>vendedores</th>\n",
       "      <th></th>\n",
       "      <th></th>\n",
       "      <th></th>\n",
       "    </tr>\n",
       "  </thead>\n",
       "  <tbody>\n",
       "    <tr>\n",
       "      <th>vend4</th>\n",
       "      <td>2</td>\n",
       "      <td>384000</td>\n",
       "      <td>-616000</td>\n",
       "    </tr>\n",
       "    <tr>\n",
       "      <th>vend10</th>\n",
       "      <td>4</td>\n",
       "      <td>542200</td>\n",
       "      <td>-457800</td>\n",
       "    </tr>\n",
       "    <tr>\n",
       "      <th>vend6</th>\n",
       "      <td>4</td>\n",
       "      <td>2049200</td>\n",
       "      <td>1049200</td>\n",
       "    </tr>\n",
       "    <tr>\n",
       "      <th>vend7</th>\n",
       "      <td>5</td>\n",
       "      <td>533620</td>\n",
       "      <td>-466380</td>\n",
       "    </tr>\n",
       "    <tr>\n",
       "      <th>vend9</th>\n",
       "      <td>7</td>\n",
       "      <td>4910400</td>\n",
       "      <td>3910400</td>\n",
       "    </tr>\n",
       "    <tr>\n",
       "      <th>vend1</th>\n",
       "      <td>8</td>\n",
       "      <td>2764000</td>\n",
       "      <td>1764000</td>\n",
       "    </tr>\n",
       "    <tr>\n",
       "      <th>vend5</th>\n",
       "      <td>8</td>\n",
       "      <td>375700</td>\n",
       "      <td>-624300</td>\n",
       "    </tr>\n",
       "    <tr>\n",
       "      <th>vend3</th>\n",
       "      <td>10</td>\n",
       "      <td>5325400</td>\n",
       "      <td>4325400</td>\n",
       "    </tr>\n",
       "    <tr>\n",
       "      <th>vend2</th>\n",
       "      <td>12</td>\n",
       "      <td>1163800</td>\n",
       "      <td>163800</td>\n",
       "    </tr>\n",
       "    <tr>\n",
       "      <th>vend8</th>\n",
       "      <td>14</td>\n",
       "      <td>1826400</td>\n",
       "      <td>826400</td>\n",
       "    </tr>\n",
       "  </tbody>\n",
       "</table>\n",
       "</div>"
      ],
      "text/plain": [
       "            qtde de vendas  total de vendas em R$  diff_meta\n",
       "vendedores                                                  \n",
       "vend4                    2                 384000    -616000\n",
       "vend10                   4                 542200    -457800\n",
       "vend6                    4                2049200    1049200\n",
       "vend7                    5                 533620    -466380\n",
       "vend9                    7                4910400    3910400\n",
       "vend1                    8                2764000    1764000\n",
       "vend5                    8                 375700    -624300\n",
       "vend3                   10                5325400    4325400\n",
       "vend2                   12                1163800     163800\n",
       "vend8                   14                1826400     826400"
      ]
     },
     "execution_count": 65,
     "metadata": {},
     "output_type": "execute_result"
    }
   ],
   "source": [
    "data_vendors"
   ]
  },
  {
   "cell_type": "markdown",
   "metadata": {},
   "source": [
    "* 40% dos vendedores não conseguiu alcançar a meta.\n",
    "* Vendedores com a mesma quantidade de vendas obtiveram resultados diferentes.\n",
    "    * vend6 e vend10 realizaram 4 vendas cada um mas somente vend6 bateu a meta anual.\n",
    "* Vender muito não significa bater meta.\n",
    "    * ven1 e vend5 ambos realizaram 8 vendas mas somente ven1 bateu a meta."
   ]
  },
  {
   "cell_type": "code",
   "execution_count": 66,
   "metadata": {
    "scrolled": true
   },
   "outputs": [
    {
     "data": {
      "text/html": [
       "<div>\n",
       "<style scoped>\n",
       "    .dataframe tbody tr th:only-of-type {\n",
       "        vertical-align: middle;\n",
       "    }\n",
       "\n",
       "    .dataframe tbody tr th {\n",
       "        vertical-align: top;\n",
       "    }\n",
       "\n",
       "    .dataframe thead th {\n",
       "        text-align: right;\n",
       "    }\n",
       "</style>\n",
       "<table border=\"1\" class=\"dataframe\">\n",
       "  <thead>\n",
       "    <tr style=\"text-align: right;\">\n",
       "      <th></th>\n",
       "      <th>qtde de vendas</th>\n",
       "      <th>total de vendas em R$</th>\n",
       "      <th>diff_meta</th>\n",
       "    </tr>\n",
       "  </thead>\n",
       "  <tbody>\n",
       "    <tr>\n",
       "      <th>count</th>\n",
       "      <td>10.000000</td>\n",
       "      <td>10.000000</td>\n",
       "      <td>10.000000</td>\n",
       "    </tr>\n",
       "    <tr>\n",
       "      <th>mean</th>\n",
       "      <td>7.400000</td>\n",
       "      <td>1987472.000000</td>\n",
       "      <td>987472.000000</td>\n",
       "    </tr>\n",
       "    <tr>\n",
       "      <th>std</th>\n",
       "      <td>3.806427</td>\n",
       "      <td>1836902.147232</td>\n",
       "      <td>1836902.147232</td>\n",
       "    </tr>\n",
       "    <tr>\n",
       "      <th>min</th>\n",
       "      <td>2.000000</td>\n",
       "      <td>375700.000000</td>\n",
       "      <td>-624300.000000</td>\n",
       "    </tr>\n",
       "    <tr>\n",
       "      <th>25%</th>\n",
       "      <td>4.250000</td>\n",
       "      <td>535765.000000</td>\n",
       "      <td>-464235.000000</td>\n",
       "    </tr>\n",
       "    <tr>\n",
       "      <th>50%</th>\n",
       "      <td>7.500000</td>\n",
       "      <td>1495100.000000</td>\n",
       "      <td>495100.000000</td>\n",
       "    </tr>\n",
       "    <tr>\n",
       "      <th>75%</th>\n",
       "      <td>9.500000</td>\n",
       "      <td>2585300.000000</td>\n",
       "      <td>1585300.000000</td>\n",
       "    </tr>\n",
       "    <tr>\n",
       "      <th>max</th>\n",
       "      <td>14.000000</td>\n",
       "      <td>5325400.000000</td>\n",
       "      <td>4325400.000000</td>\n",
       "    </tr>\n",
       "  </tbody>\n",
       "</table>\n",
       "</div>"
      ],
      "text/plain": [
       "       qtde de vendas  total de vendas em R$      diff_meta\n",
       "count       10.000000              10.000000      10.000000\n",
       "mean         7.400000         1987472.000000  987472.000000\n",
       "std          3.806427         1836902.147232 1836902.147232\n",
       "min          2.000000          375700.000000 -624300.000000\n",
       "25%          4.250000          535765.000000 -464235.000000\n",
       "50%          7.500000         1495100.000000  495100.000000\n",
       "75%          9.500000         2585300.000000 1585300.000000\n",
       "max         14.000000         5325400.000000 4325400.000000"
      ]
     },
     "execution_count": 66,
     "metadata": {},
     "output_type": "execute_result"
    }
   ],
   "source": [
    "data_vendors.describe()"
   ]
  },
  {
   "cell_type": "markdown",
   "metadata": {},
   "source": [
    "**Possível solução** \n",
    "\n",
    "Dividir os clientes entre os vendedores de acordo com o porte da empresa."
   ]
  },
  {
   "cell_type": "markdown",
   "metadata": {},
   "source": [
    "**Informações fornecidas pela profa.**\n",
    "\n",
    "* Dados referentes a 2019 inteiro.\n",
    "* Objetivo: vender software para novos clientes.\n",
    "* 10 vendedores fixos. \n",
    "* Cada linha é uma venda. \n",
    "* Meta anual total: R$ 10 milhões.\n",
    "\n",
    "* Meta anual de cada vendedor: R$ 1 milhão.\n",
    "* Dados oriundos do sistema SAP: contrato assinado, marca-se o valor.\n",
    "* Nem todos os vendedores bateram a meta.\n",
    "* FAZER análise, não projeção.\n",
    "* Bônus refere-se a um percentual do salário anual.\n",
    "* Quanto maior a meta atingida maior o bônus ao vendedor.\n",
    "* Preço definico pelo vendedor é de acordo com o porte da empresa.\n",
    "* Não há promoções sobre o valor do produto."
   ]
  },
  {
   "cell_type": "code",
   "execution_count": 67,
   "metadata": {},
   "outputs": [
    {
     "data": {
      "text/plain": [
       "\"\\nimport numpy as np\\nimport matplotlib.pyplot as plt\\ndata = [[30, 25, 50, 20],\\n[40, 23, 51, 17],\\n[35, 22, 45, 19]]\\nX = np.arange(4)\\nfig = plt.figure()\\nax = fig.add_axes([0,0,1,1])\\nax.bar(X + 0.00, data[0], color = 'b', width = 0.25)\\nax.bar(X + 0.25, data[1], color = 'g', width = 0.25)\\nax.bar(X + 0.50, data[2], color = 'r', width = 0.25)\\n\""
      ]
     },
     "execution_count": 67,
     "metadata": {},
     "output_type": "execute_result"
    }
   ],
   "source": [
    "'''\n",
    "import numpy as np\n",
    "import matplotlib.pyplot as plt\n",
    "data = [[30, 25, 50, 20],\n",
    "[40, 23, 51, 17],\n",
    "[35, 22, 45, 19]]\n",
    "X = np.arange(4)\n",
    "fig = plt.figure()\n",
    "ax = fig.add_axes([0,0,1,1])\n",
    "ax.bar(X + 0.00, data[0], color = 'b', width = 0.25)\n",
    "ax.bar(X + 0.25, data[1], color = 'g', width = 0.25)\n",
    "ax.bar(X + 0.50, data[2], color = 'r', width = 0.25)\n",
    "'''"
   ]
  },
  {
   "cell_type": "markdown",
   "metadata": {},
   "source": [
    " https://stackoverflow.com/questions/22635110/sorting-the-order-of-bars-in-pandas-matplotlib-bar-plots"
   ]
  },
  {
   "cell_type": "code",
   "execution_count": 73,
   "metadata": {},
   "outputs": [
    {
     "data": {
      "text/plain": [
       "Text(0, 0.5, 'qtde vendas')"
      ]
     },
     "execution_count": 73,
     "metadata": {},
     "output_type": "execute_result"
    },
    {
     "data": {
      "image/png": "[encoded data removed]",
      "text/plain": [
       "<Figure size 864x432 with 1 Axes>"
      ]
     },
     "metadata": {
      "needs_background": "light"
     },
     "output_type": "display_data"
    }
   ],
   "source": [
    "#az = group_data.plot(kind='bar', stacked=False, colormap='Paired', figsize=(12, 6))\n",
    "az = df_vendor_porte_venda.plot(kind='bar', stacked=False, colormap='Paired', figsize=(12, 6))\n",
    "az.set_title(\"Porte das vendas por vendedor\", fontsize=22)\n",
    "az.set_xlabel((\"vendedor\", \"porte\"), fontsize=15)\n",
    "#ay.set_ylabel(\"porte da venda\", fontsize=15)\n",
    "az.set_ylabel(\"qtde vendas\", fontsize=15)"
   ]
  },
  {
   "cell_type": "code",
   "execution_count": 72,
   "metadata": {},
   "outputs": [
    {
     "data": {
      "text/plain": [
       "Text(0, 0.5, 'qtde vendas')"
      ]
     },
     "execution_count": 72,
     "metadata": {},
     "output_type": "execute_result"
    },
    {
     "data": {
      "image/png": "[encoded data removed]",
      "text/plain": [
       "<Figure size 864x432 with 1 Axes>"
      ]
     },
     "metadata": {
      "needs_background": "light"
     },
     "output_type": "display_data"
    }
   ],
   "source": [
    "#ay = group_data.plot(kind='bar', stacked=False, colormap='Paired', figsize=(12, 6))\n",
    "ay = df_porte_vendor_venda.plot(kind='bar', stacked=False, colormap='Paired', figsize=(12, 6))\n",
    "ay.set_title(\"Porte das vendas por vendedor\", fontsize=22)\n",
    "ay.set_xlabel((\"porte\",\"vendedor\"), fontsize=15)\n",
    "#ay.set_ylabel(\"porte da venda\", fontsize=15)\n",
    "ay.set_ylabel(\"qtde vendas\", fontsize=15)"
   ]
  },
  {
   "cell_type": "code",
   "execution_count": 75,
   "metadata": {},
   "outputs": [
    {
     "data": {
      "text/html": [
       "<div>\n",
       "<style scoped>\n",
       "    .dataframe tbody tr th:only-of-type {\n",
       "        vertical-align: middle;\n",
       "    }\n",
       "\n",
       "    .dataframe tbody tr th {\n",
       "        vertical-align: top;\n",
       "    }\n",
       "\n",
       "    .dataframe thead th {\n",
       "        text-align: right;\n",
       "    }\n",
       "</style>\n",
       "<table border=\"1\" class=\"dataframe\">\n",
       "  <thead>\n",
       "    <tr style=\"text-align: right;\">\n",
       "      <th></th>\n",
       "      <th>vendedores</th>\n",
       "      <th>porte</th>\n",
       "      <th>vendas</th>\n",
       "    </tr>\n",
       "  </thead>\n",
       "  <tbody>\n",
       "    <tr>\n",
       "      <th>6</th>\n",
       "      <td>vend2</td>\n",
       "      <td>bronze</td>\n",
       "      <td>3</td>\n",
       "    </tr>\n",
       "    <tr>\n",
       "      <th>0</th>\n",
       "      <td>vend1</td>\n",
       "      <td>bronze</td>\n",
       "      <td>2</td>\n",
       "    </tr>\n",
       "    <tr>\n",
       "      <th>28</th>\n",
       "      <td>vend8</td>\n",
       "      <td>prata</td>\n",
       "      <td>3</td>\n",
       "    </tr>\n",
       "    <tr>\n",
       "      <th>15</th>\n",
       "      <td>vend4</td>\n",
       "      <td>ouro</td>\n",
       "      <td>1</td>\n",
       "    </tr>\n",
       "    <tr>\n",
       "      <th>21</th>\n",
       "      <td>vend6</td>\n",
       "      <td>diamante</td>\n",
       "      <td>1</td>\n",
       "    </tr>\n",
       "  </tbody>\n",
       "</table>\n",
       "</div>"
      ],
      "text/plain": [
       "   vendedores     porte  vendas\n",
       "6       vend2    bronze       3\n",
       "0       vend1    bronze       2\n",
       "28      vend8     prata       3\n",
       "15      vend4      ouro       1\n",
       "21      vend6  diamante       1"
      ]
     },
     "execution_count": 75,
     "metadata": {},
     "output_type": "execute_result"
    }
   ],
   "source": [
    "group_data = df_vendor_porte_venda.reset_index()\n",
    "group_data.sample(5)"
   ]
  },
  {
   "cell_type": "code",
   "execution_count": 77,
   "metadata": {},
   "outputs": [
    {
     "data": {
      "text/plain": [
       "Text(0, 0.5, 'qtde vendas')"
      ]
     },
     "execution_count": 77,
     "metadata": {},
     "output_type": "execute_result"
    },
    {
     "data": {
      "image/png": "[encoded data removed]",
      "text/plain": [
       "<Figure size 864x432 with 1 Axes>"
      ]
     },
     "metadata": {
      "needs_background": "light"
     },
     "output_type": "display_data"
    }
   ],
   "source": [
    "ai = group_data.plot(kind='bar', stacked=True, colormap='Paired', figsize=(12, 6))\n",
    "#ai = df_porte_vendor_venda.plot(kind='bar', stacked=False, colormap='Paired', figsize=(12, 6))\n",
    "ai.set_title(\"Porte das vendas por vendedor\", fontsize=22)\n",
    "ai.set_xlabel((\"porte\"), fontsize=15)\n",
    "ai.set_ylabel(\"qtde vendas\", fontsize=15)"
   ]
  },
  {
   "cell_type": "code",
   "execution_count": 78,
   "metadata": {},
   "outputs": [
    {
     "data": {
      "text/plain": [
       "Text(0.5, 0, 'qtde vendas')"
      ]
     },
     "execution_count": 78,
     "metadata": {},
     "output_type": "execute_result"
    },
    {
     "data": {
      "image/png": "[encoded data removed]",
      "text/plain": [
       "<Figure size 864x432 with 1 Axes>"
      ]
     },
     "metadata": {
      "needs_background": "light"
     },
     "output_type": "display_data"
    }
   ],
   "source": [
    "ax = df_vendor_porte_venda.plot.barh(color='indigo', figsize=(12, 6))\n",
    "ax.set_title(\"Porte das vendas por vendedor\", fontsize=22)\n",
    "ax.set_ylabel(\"(vendedor, porte da venda)\", fontsize=15)\n",
    "ax.set_xlabel(\"qtde vendas\", fontsize=15)"
   ]
  },
  {
   "cell_type": "code",
   "execution_count": null,
   "metadata": {},
   "outputs": [],
   "source": [
    "colors = {group_data['porte'] == 'P': 'y', \n",
    "          group_data['porte'] == 'M': 'o',\n",
    "          group_data['porte'] == 'G': 'r',\n",
    "          group_data['porte'] == 'P': 'p'}"
   ]
  },
  {
   "cell_type": "code",
   "execution_count": null,
   "metadata": {},
   "outputs": [],
   "source": [
    "my_color = []\n",
    "for i in range(len(df_vendor_porte_venda)):\n",
    "    if group_data['porte'].item() == 'P':\n",
    "        my_color.append('r')\n",
    "    elif group_data['porte'] == 'M':\n",
    "        my_color.append('y')\n",
    "    elif group_data['porte'] == 'G':\n",
    "        my_color.append('g')\n",
    "    elif group_data['porte'] == 'XG':\n",
    "        my_color.append('b')"
   ]
  },
  {
   "cell_type": "code",
   "execution_count": null,
   "metadata": {},
   "outputs": [],
   "source": [
    "fig = group_data.plot.bar()\n",
    "\n",
    "fig.figure.show()"
   ]
  },
  {
   "cell_type": "code",
   "execution_count": null,
   "metadata": {},
   "outputs": [],
   "source": [
    "vx = ['vend1','vend10','vend2','vend3','vend4','vend5','vend6','vend7','vend8','vend9']       "
   ]
  },
  {
   "cell_type": "code",
   "execution_count": 79,
   "metadata": {},
   "outputs": [
    {
     "data": {
      "image/png": "[encoded data removed]",
      "text/plain": [
       "<Figure size 432x288 with 1 Axes>"
      ]
     },
     "metadata": {
      "needs_background": "light"
     },
     "output_type": "display_data"
    }
   ],
   "source": [
    "import numpy as np\n",
    "import matplotlib.pyplot as plt\n",
    "\n",
    "fig = plt.figure()\n",
    "ax = fig.add_subplot(111)\n",
    "\n",
    "N = 5\n",
    "ind = np.arange(N)\n",
    "width = 0.5\n",
    "vals = [1,2,3,4,5]\n",
    "colors = ['r','b','b','b','b']\n",
    "ax.barh(ind, vals, width, color=colors)\n",
    "\n",
    "plt.show()"
   ]
  },
  {
   "cell_type": "code",
   "execution_count": 80,
   "metadata": {},
   "outputs": [
    {
     "data": {
      "text/plain": [
       "MultiIndex([( 'vend1',   'bronze'),\n",
       "            ( 'vend1', 'diamante'),\n",
       "            ( 'vend1',    'prata'),\n",
       "            ('vend10', 'diamante'),\n",
       "            ('vend10',     'ouro'),\n",
       "            ('vend10',    'prata'),\n",
       "            ( 'vend2',   'bronze'),\n",
       "            ( 'vend2', 'diamante'),\n",
       "            ( 'vend2',     'ouro'),\n",
       "            ( 'vend2',    'prata'),\n",
       "            ( 'vend3',   'bronze'),\n",
       "            ( 'vend3', 'diamante'),\n",
       "            ( 'vend3',     'ouro'),\n",
       "            ( 'vend3',    'prata'),\n",
       "            ( 'vend4', 'diamante'),\n",
       "            ( 'vend4',     'ouro'),\n",
       "            ( 'vend5',   'bronze'),\n",
       "            ( 'vend5', 'diamante'),\n",
       "            ( 'vend5',     'ouro'),\n",
       "            ( 'vend5',    'prata'),\n",
       "            ( 'vend6',   'bronze'),\n",
       "            ( 'vend6', 'diamante'),\n",
       "            ( 'vend6',     'ouro'),\n",
       "            ( 'vend7',     'ouro'),\n",
       "            ( 'vend7',    'prata'),\n",
       "            ( 'vend8',   'bronze'),\n",
       "            ( 'vend8', 'diamante'),\n",
       "            ( 'vend8',     'ouro'),\n",
       "            ( 'vend8',    'prata'),\n",
       "            ( 'vend9',   'bronze'),\n",
       "            ( 'vend9', 'diamante'),\n",
       "            ( 'vend9',    'prata')],\n",
       "           names=['vendedores', 'porte'])"
      ]
     },
     "execution_count": 80,
     "metadata": {},
     "output_type": "execute_result"
    }
   ],
   "source": [
    "t = df_vendor_porte_venda.index\n",
    "t"
   ]
  },
  {
   "cell_type": "code",
   "execution_count": 84,
   "metadata": {},
   "outputs": [
    {
     "data": {
      "text/plain": [
       "'bronze'"
      ]
     },
     "execution_count": 84,
     "metadata": {},
     "output_type": "execute_result"
    }
   ],
   "source": [
    "# extract value from tuple\n",
    "df_vendor_porte_venda.index[0][1]"
   ]
  },
  {
   "cell_type": "code",
   "execution_count": 86,
   "metadata": {},
   "outputs": [
    {
     "data": {
      "text/plain": [
       "'diamante'"
      ]
     },
     "execution_count": 86,
     "metadata": {},
     "output_type": "execute_result"
    }
   ],
   "source": [
    "df_vendor_porte_venda.index[1][1]"
   ]
  },
  {
   "cell_type": "code",
   "execution_count": 87,
   "metadata": {},
   "outputs": [
    {
     "name": "stdout",
     "output_type": "stream",
     "text": [
      "bronze\n",
      "diamante\n",
      "prata\n",
      "diamante\n",
      "ouro\n",
      "prata\n",
      "bronze\n",
      "diamante\n",
      "ouro\n",
      "prata\n",
      "bronze\n",
      "diamante\n",
      "ouro\n",
      "prata\n",
      "diamante\n",
      "ouro\n",
      "bronze\n",
      "diamante\n",
      "ouro\n",
      "prata\n",
      "bronze\n",
      "diamante\n",
      "ouro\n",
      "ouro\n",
      "prata\n",
      "bronze\n",
      "diamante\n",
      "ouro\n",
      "prata\n",
      "bronze\n",
      "diamante\n",
      "prata\n"
     ]
    }
   ],
   "source": [
    "for i in range(len(df_vendor_porte_venda)):\n",
    "    print(df_vendor_porte_venda.index[i][1])"
   ]
  },
  {
   "cell_type": "markdown",
   "metadata": {},
   "source": [
    " CRIAR dicionário: variável | descrição | tipo da variável"
   ]
  }
 ],
 "metadata": {
  "kernelspec": {
   "display_name": "Python 3",
   "language": "python",
   "name": "python3"
  },
  "language_info": {
   "codemirror_mode": {
    "name": "ipython",
    "version": 3
   },
   "file_extension": ".py",
   "mimetype": "text/x-python",
   "name": "python",
   "nbconvert_exporter": "python",
   "pygments_lexer": "ipython3",
   "version": "3.6.9"
  }
 },
 "nbformat": 4,
 "nbformat_minor": 4
}
